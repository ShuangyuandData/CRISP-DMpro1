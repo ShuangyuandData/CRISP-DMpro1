{
 "cells": [
  {
   "cell_type": "code",
   "execution_count": 1,
   "metadata": {},
   "outputs": [],
   "source": [
    "import pandas as pd\n",
    "import numpy as np\n",
    "import matplotlib.pyplot as plt\n",
    "import scipy.optimize as optimize"
   ]
  },
  {
   "cell_type": "markdown",
   "metadata": {},
   "source": [
    "## Read data"
   ]
  },
  {
   "cell_type": "code",
   "execution_count": 2,
   "metadata": {},
   "outputs": [],
   "source": [
    "## read data\n",
    "def readdata(path):\n",
    "    \"\"\"\n",
    "    Read the data and show the basic info\n",
    "    \n",
    "    Input: path of the data file\n",
    "    \n",
    "    \"\"\"\n",
    "    tempcp1=pd.read_csv(path)\n",
    "    del tempcp1['Unnamed: 0']\n",
    "    \n",
    "    print(tempcp1.shape)\n",
    "    \n",
    "    return tempcp1"
   ]
  },
  {
   "cell_type": "code",
   "execution_count": 3,
   "metadata": {},
   "outputs": [
    {
     "name": "stdout",
     "output_type": "stream",
     "text": [
      "(3000, 6)\n"
     ]
    },
    {
     "data": {
      "text/html": [
       "<div>\n",
       "<style scoped>\n",
       "    .dataframe tbody tr th:only-of-type {\n",
       "        vertical-align: middle;\n",
       "    }\n",
       "\n",
       "    .dataframe tbody tr th {\n",
       "        vertical-align: top;\n",
       "    }\n",
       "\n",
       "    .dataframe thead th {\n",
       "        text-align: right;\n",
       "    }\n",
       "</style>\n",
       "<table border=\"1\" class=\"dataframe\">\n",
       "  <thead>\n",
       "    <tr style=\"text-align: right;\">\n",
       "      <th></th>\n",
       "      <th>CN</th>\n",
       "      <th>RI</th>\n",
       "      <th>RII</th>\n",
       "      <th>MV</th>\n",
       "      <th>C1</th>\n",
       "      <th>C2</th>\n",
       "    </tr>\n",
       "  </thead>\n",
       "  <tbody>\n",
       "    <tr>\n",
       "      <th>0</th>\n",
       "      <td>1,2DEB</td>\n",
       "      <td>30.999999</td>\n",
       "      <td>0.91</td>\n",
       "      <td>185088.823220</td>\n",
       "      <td>167819.761232</td>\n",
       "      <td>175849.033390</td>\n",
       "    </tr>\n",
       "    <tr>\n",
       "      <th>1</th>\n",
       "      <td>1,3  &amp;1,7 DMN</td>\n",
       "      <td>52.499999</td>\n",
       "      <td>1.81</td>\n",
       "      <td>183667.870385</td>\n",
       "      <td>147907.890008</td>\n",
       "      <td>179054.575332</td>\n",
       "    </tr>\n",
       "    <tr>\n",
       "      <th>2</th>\n",
       "      <td>1,3,6-TMN</td>\n",
       "      <td>59.199999</td>\n",
       "      <td>1.75</td>\n",
       "      <td>129800.060753</td>\n",
       "      <td>84475.877129</td>\n",
       "      <td>87036.712407</td>\n",
       "    </tr>\n",
       "    <tr>\n",
       "      <th>3</th>\n",
       "      <td>1,3,7-TMN</td>\n",
       "      <td>58.899999</td>\n",
       "      <td>1.74</td>\n",
       "      <td>106621.233565</td>\n",
       "      <td>77114.058857</td>\n",
       "      <td>73071.014487</td>\n",
       "    </tr>\n",
       "    <tr>\n",
       "      <th>4</th>\n",
       "      <td>1,4,6&amp;1,3,5-TMN</td>\n",
       "      <td>60.099999</td>\n",
       "      <td>1.83</td>\n",
       "      <td>54141.360133</td>\n",
       "      <td>55969.873792</td>\n",
       "      <td>58692.278751</td>\n",
       "    </tr>\n",
       "  </tbody>\n",
       "</table>\n",
       "</div>"
      ],
      "text/plain": [
       "                CN         RI   RII             MV             C1  \\\n",
       "0           1,2DEB  30.999999  0.91  185088.823220  167819.761232   \n",
       "1    1,3  &1,7 DMN  52.499999  1.81  183667.870385  147907.890008   \n",
       "2        1,3,6-TMN  59.199999  1.75  129800.060753   84475.877129   \n",
       "3        1,3,7-TMN  58.899999  1.74  106621.233565   77114.058857   \n",
       "4  1,4,6&1,3,5-TMN  60.099999  1.83   54141.360133   55969.873792   \n",
       "\n",
       "              C2  \n",
       "0  175849.033390  \n",
       "1  179054.575332  \n",
       "2   87036.712407  \n",
       "3   73071.014487  \n",
       "4   58692.278751  "
      ]
     },
     "execution_count": 3,
     "metadata": {},
     "output_type": "execute_result"
    }
   ],
   "source": [
    "M1PV=readdata('M1PV.csv')\n",
    "M1PV.head()"
   ]
  },
  {
   "cell_type": "code",
   "execution_count": 4,
   "metadata": {},
   "outputs": [
    {
     "name": "stdout",
     "output_type": "stream",
     "text": [
      "(3000, 6)\n"
     ]
    },
    {
     "data": {
      "text/html": [
       "<div>\n",
       "<style scoped>\n",
       "    .dataframe tbody tr th:only-of-type {\n",
       "        vertical-align: middle;\n",
       "    }\n",
       "\n",
       "    .dataframe tbody tr th {\n",
       "        vertical-align: top;\n",
       "    }\n",
       "\n",
       "    .dataframe thead th {\n",
       "        text-align: right;\n",
       "    }\n",
       "</style>\n",
       "<table border=\"1\" class=\"dataframe\">\n",
       "  <thead>\n",
       "    <tr style=\"text-align: right;\">\n",
       "      <th></th>\n",
       "      <th>CN</th>\n",
       "      <th>RI</th>\n",
       "      <th>RII</th>\n",
       "      <th>MV</th>\n",
       "      <th>C1</th>\n",
       "      <th>C2</th>\n",
       "    </tr>\n",
       "  </thead>\n",
       "  <tbody>\n",
       "    <tr>\n",
       "      <th>0</th>\n",
       "      <td>1,2DEB</td>\n",
       "      <td>30.899999</td>\n",
       "      <td>0.91</td>\n",
       "      <td>179944.453289</td>\n",
       "      <td>167819.761232</td>\n",
       "      <td>175849.033390</td>\n",
       "    </tr>\n",
       "    <tr>\n",
       "      <th>1</th>\n",
       "      <td>1,3  &amp;1,7 DMN</td>\n",
       "      <td>52.399999</td>\n",
       "      <td>1.79</td>\n",
       "      <td>129461.468389</td>\n",
       "      <td>147907.890008</td>\n",
       "      <td>179054.575332</td>\n",
       "    </tr>\n",
       "    <tr>\n",
       "      <th>2</th>\n",
       "      <td>1,3,6-TMN</td>\n",
       "      <td>58.699999</td>\n",
       "      <td>1.76</td>\n",
       "      <td>111970.842119</td>\n",
       "      <td>84475.877129</td>\n",
       "      <td>87036.712407</td>\n",
       "    </tr>\n",
       "    <tr>\n",
       "      <th>3</th>\n",
       "      <td>1,3,7-TMN</td>\n",
       "      <td>58.999999</td>\n",
       "      <td>1.74</td>\n",
       "      <td>118211.903753</td>\n",
       "      <td>77114.058857</td>\n",
       "      <td>73071.014487</td>\n",
       "    </tr>\n",
       "    <tr>\n",
       "      <th>4</th>\n",
       "      <td>1,4,6&amp;1,3,5-TMN</td>\n",
       "      <td>59.899999</td>\n",
       "      <td>1.84</td>\n",
       "      <td>71568.973435</td>\n",
       "      <td>55969.873792</td>\n",
       "      <td>58692.278751</td>\n",
       "    </tr>\n",
       "  </tbody>\n",
       "</table>\n",
       "</div>"
      ],
      "text/plain": [
       "                CN         RI   RII             MV             C1  \\\n",
       "0           1,2DEB  30.899999  0.91  179944.453289  167819.761232   \n",
       "1    1,3  &1,7 DMN  52.399999  1.79  129461.468389  147907.890008   \n",
       "2        1,3,6-TMN  58.699999  1.76  111970.842119   84475.877129   \n",
       "3        1,3,7-TMN  58.999999  1.74  118211.903753   77114.058857   \n",
       "4  1,4,6&1,3,5-TMN  59.899999  1.84   71568.973435   55969.873792   \n",
       "\n",
       "              C2  \n",
       "0  175849.033390  \n",
       "1  179054.575332  \n",
       "2   87036.712407  \n",
       "3   73071.014487  \n",
       "4   58692.278751  "
      ]
     },
     "execution_count": 4,
     "metadata": {},
     "output_type": "execute_result"
    }
   ],
   "source": [
    "M2PV=readdata('M2PV.csv')\n",
    "M2PV.head()"
   ]
  },
  {
   "cell_type": "code",
   "execution_count": 5,
   "metadata": {},
   "outputs": [
    {
     "name": "stdout",
     "output_type": "stream",
     "text": [
      "(3000, 6)\n"
     ]
    },
    {
     "data": {
      "text/html": [
       "<div>\n",
       "<style scoped>\n",
       "    .dataframe tbody tr th:only-of-type {\n",
       "        vertical-align: middle;\n",
       "    }\n",
       "\n",
       "    .dataframe tbody tr th {\n",
       "        vertical-align: top;\n",
       "    }\n",
       "\n",
       "    .dataframe thead th {\n",
       "        text-align: right;\n",
       "    }\n",
       "</style>\n",
       "<table border=\"1\" class=\"dataframe\">\n",
       "  <thead>\n",
       "    <tr style=\"text-align: right;\">\n",
       "      <th></th>\n",
       "      <th>CN</th>\n",
       "      <th>RI</th>\n",
       "      <th>RII</th>\n",
       "      <th>MV</th>\n",
       "      <th>C1</th>\n",
       "      <th>C2</th>\n",
       "    </tr>\n",
       "  </thead>\n",
       "  <tbody>\n",
       "    <tr>\n",
       "      <th>0</th>\n",
       "      <td>1,2DEB</td>\n",
       "      <td>30.899999</td>\n",
       "      <td>0.91</td>\n",
       "      <td>112407.671449</td>\n",
       "      <td>167819.761232</td>\n",
       "      <td>175849.033390</td>\n",
       "    </tr>\n",
       "    <tr>\n",
       "      <th>1</th>\n",
       "      <td>1,3  &amp;1,7 DMN</td>\n",
       "      <td>52.299999</td>\n",
       "      <td>1.79</td>\n",
       "      <td>175218.509226</td>\n",
       "      <td>147907.890008</td>\n",
       "      <td>179054.575332</td>\n",
       "    </tr>\n",
       "    <tr>\n",
       "      <th>2</th>\n",
       "      <td>1,3,6-TMN</td>\n",
       "      <td>58.999999</td>\n",
       "      <td>1.75</td>\n",
       "      <td>119128.627076</td>\n",
       "      <td>84475.877129</td>\n",
       "      <td>87036.712407</td>\n",
       "    </tr>\n",
       "    <tr>\n",
       "      <th>3</th>\n",
       "      <td>1,3,7-TMN</td>\n",
       "      <td>58.699999</td>\n",
       "      <td>1.74</td>\n",
       "      <td>89538.338123</td>\n",
       "      <td>77114.058857</td>\n",
       "      <td>73071.014487</td>\n",
       "    </tr>\n",
       "    <tr>\n",
       "      <th>4</th>\n",
       "      <td>1,4,6&amp;1,3,5-TMN</td>\n",
       "      <td>59.899999</td>\n",
       "      <td>1.82</td>\n",
       "      <td>43140.699547</td>\n",
       "      <td>55969.873792</td>\n",
       "      <td>58692.278751</td>\n",
       "    </tr>\n",
       "  </tbody>\n",
       "</table>\n",
       "</div>"
      ],
      "text/plain": [
       "                CN         RI   RII             MV             C1  \\\n",
       "0           1,2DEB  30.899999  0.91  112407.671449  167819.761232   \n",
       "1    1,3  &1,7 DMN  52.299999  1.79  175218.509226  147907.890008   \n",
       "2        1,3,6-TMN  58.999999  1.75  119128.627076   84475.877129   \n",
       "3        1,3,7-TMN  58.699999  1.74   89538.338123   77114.058857   \n",
       "4  1,4,6&1,3,5-TMN  59.899999  1.82   43140.699547   55969.873792   \n",
       "\n",
       "              C2  \n",
       "0  175849.033390  \n",
       "1  179054.575332  \n",
       "2   87036.712407  \n",
       "3   73071.014487  \n",
       "4   58692.278751  "
      ]
     },
     "execution_count": 5,
     "metadata": {},
     "output_type": "execute_result"
    }
   ],
   "source": [
    "M3PV=readdata('M3PV.csv')\n",
    "M3PV.head()"
   ]
  },
  {
   "cell_type": "code",
   "execution_count": 6,
   "metadata": {},
   "outputs": [
    {
     "name": "stdout",
     "output_type": "stream",
     "text": [
      "(3000, 6)\n"
     ]
    },
    {
     "data": {
      "text/html": [
       "<div>\n",
       "<style scoped>\n",
       "    .dataframe tbody tr th:only-of-type {\n",
       "        vertical-align: middle;\n",
       "    }\n",
       "\n",
       "    .dataframe tbody tr th {\n",
       "        vertical-align: top;\n",
       "    }\n",
       "\n",
       "    .dataframe thead th {\n",
       "        text-align: right;\n",
       "    }\n",
       "</style>\n",
       "<table border=\"1\" class=\"dataframe\">\n",
       "  <thead>\n",
       "    <tr style=\"text-align: right;\">\n",
       "      <th></th>\n",
       "      <th>CN</th>\n",
       "      <th>RI</th>\n",
       "      <th>RII</th>\n",
       "      <th>MV</th>\n",
       "      <th>C1</th>\n",
       "      <th>C2</th>\n",
       "    </tr>\n",
       "  </thead>\n",
       "  <tbody>\n",
       "    <tr>\n",
       "      <th>0</th>\n",
       "      <td>1,2DEB</td>\n",
       "      <td>30.999999</td>\n",
       "      <td>0.91</td>\n",
       "      <td>1.250369e+06</td>\n",
       "      <td>1.158441e+06</td>\n",
       "      <td>1.220085e+06</td>\n",
       "    </tr>\n",
       "    <tr>\n",
       "      <th>1</th>\n",
       "      <td>1,3  &amp;1,7 DMN</td>\n",
       "      <td>52.499999</td>\n",
       "      <td>1.81</td>\n",
       "      <td>1.808672e+06</td>\n",
       "      <td>1.943806e+06</td>\n",
       "      <td>1.867825e+06</td>\n",
       "    </tr>\n",
       "    <tr>\n",
       "      <th>2</th>\n",
       "      <td>1,3,6-TMN</td>\n",
       "      <td>59.199999</td>\n",
       "      <td>1.75</td>\n",
       "      <td>1.144294e+06</td>\n",
       "      <td>1.155635e+06</td>\n",
       "      <td>1.179569e+06</td>\n",
       "    </tr>\n",
       "    <tr>\n",
       "      <th>3</th>\n",
       "      <td>1,3,7-TMN</td>\n",
       "      <td>58.899999</td>\n",
       "      <td>1.74</td>\n",
       "      <td>9.422694e+05</td>\n",
       "      <td>9.284217e+05</td>\n",
       "      <td>9.175154e+05</td>\n",
       "    </tr>\n",
       "    <tr>\n",
       "      <th>4</th>\n",
       "      <td>1,4,6&amp;1,3,5-TMN</td>\n",
       "      <td>60.099999</td>\n",
       "      <td>1.83</td>\n",
       "      <td>7.115688e+05</td>\n",
       "      <td>6.272748e+05</td>\n",
       "      <td>6.665838e+05</td>\n",
       "    </tr>\n",
       "  </tbody>\n",
       "</table>\n",
       "</div>"
      ],
      "text/plain": [
       "                CN         RI   RII            MV            C1            C2\n",
       "0           1,2DEB  30.999999  0.91  1.250369e+06  1.158441e+06  1.220085e+06\n",
       "1    1,3  &1,7 DMN  52.499999  1.81  1.808672e+06  1.943806e+06  1.867825e+06\n",
       "2        1,3,6-TMN  59.199999  1.75  1.144294e+06  1.155635e+06  1.179569e+06\n",
       "3        1,3,7-TMN  58.899999  1.74  9.422694e+05  9.284217e+05  9.175154e+05\n",
       "4  1,4,6&1,3,5-TMN  60.099999  1.83  7.115688e+05  6.272748e+05  6.665838e+05"
      ]
     },
     "execution_count": 6,
     "metadata": {},
     "output_type": "execute_result"
    }
   ],
   "source": [
    "M1V=readdata('M1V.csv')\n",
    "M1V.head()"
   ]
  },
  {
   "cell_type": "code",
   "execution_count": 7,
   "metadata": {},
   "outputs": [
    {
     "name": "stdout",
     "output_type": "stream",
     "text": [
      "(3000, 6)\n"
     ]
    },
    {
     "data": {
      "text/html": [
       "<div>\n",
       "<style scoped>\n",
       "    .dataframe tbody tr th:only-of-type {\n",
       "        vertical-align: middle;\n",
       "    }\n",
       "\n",
       "    .dataframe tbody tr th {\n",
       "        vertical-align: top;\n",
       "    }\n",
       "\n",
       "    .dataframe thead th {\n",
       "        text-align: right;\n",
       "    }\n",
       "</style>\n",
       "<table border=\"1\" class=\"dataframe\">\n",
       "  <thead>\n",
       "    <tr style=\"text-align: right;\">\n",
       "      <th></th>\n",
       "      <th>CN</th>\n",
       "      <th>RI</th>\n",
       "      <th>RII</th>\n",
       "      <th>MV</th>\n",
       "      <th>C1</th>\n",
       "      <th>C2</th>\n",
       "    </tr>\n",
       "  </thead>\n",
       "  <tbody>\n",
       "    <tr>\n",
       "      <th>0</th>\n",
       "      <td>1,2DEB</td>\n",
       "      <td>30.899999</td>\n",
       "      <td>0.91</td>\n",
       "      <td>1.297604e+06</td>\n",
       "      <td>1.158441e+06</td>\n",
       "      <td>1.220085e+06</td>\n",
       "    </tr>\n",
       "    <tr>\n",
       "      <th>1</th>\n",
       "      <td>1,3  &amp;1,7 DMN</td>\n",
       "      <td>52.399999</td>\n",
       "      <td>1.79</td>\n",
       "      <td>2.424594e+06</td>\n",
       "      <td>1.943806e+06</td>\n",
       "      <td>1.867825e+06</td>\n",
       "    </tr>\n",
       "    <tr>\n",
       "      <th>2</th>\n",
       "      <td>1,3,6-TMN</td>\n",
       "      <td>58.699999</td>\n",
       "      <td>1.76</td>\n",
       "      <td>1.006793e+06</td>\n",
       "      <td>1.155635e+06</td>\n",
       "      <td>1.179569e+06</td>\n",
       "    </tr>\n",
       "    <tr>\n",
       "      <th>3</th>\n",
       "      <td>1,3,7-TMN</td>\n",
       "      <td>58.999999</td>\n",
       "      <td>1.74</td>\n",
       "      <td>1.235502e+06</td>\n",
       "      <td>9.284217e+05</td>\n",
       "      <td>9.175154e+05</td>\n",
       "    </tr>\n",
       "    <tr>\n",
       "      <th>4</th>\n",
       "      <td>1,4,6&amp;1,3,5-TMN</td>\n",
       "      <td>59.899999</td>\n",
       "      <td>1.84</td>\n",
       "      <td>7.415192e+05</td>\n",
       "      <td>6.272748e+05</td>\n",
       "      <td>6.665838e+05</td>\n",
       "    </tr>\n",
       "  </tbody>\n",
       "</table>\n",
       "</div>"
      ],
      "text/plain": [
       "                CN         RI   RII            MV            C1            C2\n",
       "0           1,2DEB  30.899999  0.91  1.297604e+06  1.158441e+06  1.220085e+06\n",
       "1    1,3  &1,7 DMN  52.399999  1.79  2.424594e+06  1.943806e+06  1.867825e+06\n",
       "2        1,3,6-TMN  58.699999  1.76  1.006793e+06  1.155635e+06  1.179569e+06\n",
       "3        1,3,7-TMN  58.999999  1.74  1.235502e+06  9.284217e+05  9.175154e+05\n",
       "4  1,4,6&1,3,5-TMN  59.899999  1.84  7.415192e+05  6.272748e+05  6.665838e+05"
      ]
     },
     "execution_count": 7,
     "metadata": {},
     "output_type": "execute_result"
    }
   ],
   "source": [
    "M2V=readdata('M2V.csv')\n",
    "M2V.head()"
   ]
  },
  {
   "cell_type": "code",
   "execution_count": 8,
   "metadata": {},
   "outputs": [
    {
     "name": "stdout",
     "output_type": "stream",
     "text": [
      "(3000, 6)\n"
     ]
    },
    {
     "data": {
      "text/html": [
       "<div>\n",
       "<style scoped>\n",
       "    .dataframe tbody tr th:only-of-type {\n",
       "        vertical-align: middle;\n",
       "    }\n",
       "\n",
       "    .dataframe tbody tr th {\n",
       "        vertical-align: top;\n",
       "    }\n",
       "\n",
       "    .dataframe thead th {\n",
       "        text-align: right;\n",
       "    }\n",
       "</style>\n",
       "<table border=\"1\" class=\"dataframe\">\n",
       "  <thead>\n",
       "    <tr style=\"text-align: right;\">\n",
       "      <th></th>\n",
       "      <th>CN</th>\n",
       "      <th>RI</th>\n",
       "      <th>RII</th>\n",
       "      <th>MV</th>\n",
       "      <th>C1</th>\n",
       "      <th>C2</th>\n",
       "    </tr>\n",
       "  </thead>\n",
       "  <tbody>\n",
       "    <tr>\n",
       "      <th>0</th>\n",
       "      <td>1,2DEB</td>\n",
       "      <td>30.899999</td>\n",
       "      <td>0.91</td>\n",
       "      <td>1.237998e+06</td>\n",
       "      <td>1.158441e+06</td>\n",
       "      <td>1.220085e+06</td>\n",
       "    </tr>\n",
       "    <tr>\n",
       "      <th>1</th>\n",
       "      <td>1,3  &amp;1,7 DMN</td>\n",
       "      <td>52.299999</td>\n",
       "      <td>1.79</td>\n",
       "      <td>1.927023e+06</td>\n",
       "      <td>1.943806e+06</td>\n",
       "      <td>1.867825e+06</td>\n",
       "    </tr>\n",
       "    <tr>\n",
       "      <th>2</th>\n",
       "      <td>1,3,6-TMN</td>\n",
       "      <td>58.999999</td>\n",
       "      <td>1.75</td>\n",
       "      <td>1.149723e+06</td>\n",
       "      <td>1.155635e+06</td>\n",
       "      <td>1.179569e+06</td>\n",
       "    </tr>\n",
       "    <tr>\n",
       "      <th>3</th>\n",
       "      <td>1,3,7-TMN</td>\n",
       "      <td>58.699999</td>\n",
       "      <td>1.74</td>\n",
       "      <td>9.388812e+05</td>\n",
       "      <td>9.284217e+05</td>\n",
       "      <td>9.175154e+05</td>\n",
       "    </tr>\n",
       "    <tr>\n",
       "      <th>4</th>\n",
       "      <td>1,4,6&amp;1,3,5-TMN</td>\n",
       "      <td>59.899999</td>\n",
       "      <td>1.82</td>\n",
       "      <td>7.291452e+05</td>\n",
       "      <td>6.272748e+05</td>\n",
       "      <td>6.665838e+05</td>\n",
       "    </tr>\n",
       "  </tbody>\n",
       "</table>\n",
       "</div>"
      ],
      "text/plain": [
       "                CN         RI   RII            MV            C1            C2\n",
       "0           1,2DEB  30.899999  0.91  1.237998e+06  1.158441e+06  1.220085e+06\n",
       "1    1,3  &1,7 DMN  52.299999  1.79  1.927023e+06  1.943806e+06  1.867825e+06\n",
       "2        1,3,6-TMN  58.999999  1.75  1.149723e+06  1.155635e+06  1.179569e+06\n",
       "3        1,3,7-TMN  58.699999  1.74  9.388812e+05  9.284217e+05  9.175154e+05\n",
       "4  1,4,6&1,3,5-TMN  59.899999  1.82  7.291452e+05  6.272748e+05  6.665838e+05"
      ]
     },
     "execution_count": 8,
     "metadata": {},
     "output_type": "execute_result"
    }
   ],
   "source": [
    "M3V=readdata('M3V.csv')\n",
    "M3V.head()"
   ]
  },
  {
   "cell_type": "code",
   "execution_count": 23,
   "metadata": {},
   "outputs": [],
   "source": [
    "def identify6(df, nrow):\n",
    "    \"\"\"\n",
    "    Identify the ratio of the two materials\n",
    "    Input:  df is the merged dataframe\n",
    "            nrow is the number of the features we use for the calculation\n",
    "    \n",
    "    Return the ratio\n",
    "    \n",
    "    \"\"\"\n",
    "    b=df.MV[:nrow]\n",
    "    \n",
    "    A=np.array(df[['C1','C2']])[:nrow]\n",
    "    \n",
    "    def obj(x):\n",
    "        y=np.dot(A,x)-b\n",
    "        return np.dot(y,y)\n",
    "    \n",
    "    bond=(0.0, 5.0)\n",
    "    bnds=(bond,bond)\n",
    "    \n",
    "    #cons = ({'type': 'eq', 'fun': lambda x: x.sum() - 1})\n",
    "    #cons = ({'type': 'eq', 'fun': x > 0})\n",
    "    \n",
    "    #res = optimize.minimize(obj, [0, 0], method='SLSQP', constraints=cons, options={'disp': False})\n",
    "    #res = optimize.minimize(obj, [0, 0], method='SLSQP', bounds=bnds, options={'disp': False})\n",
    "    res = optimize.minimize(obj, [0.5, 0.5], method='SLSQP', options={'disp': False})\n",
    "    \n",
    "    return res"
   ]
  },
  {
   "cell_type": "code",
   "execution_count": 21,
   "metadata": {},
   "outputs": [],
   "source": [
    "def plotratio(df, nf):\n",
    "    \"\"\"\n",
    "    Plot the ratio against the number of features\n",
    "    Input:  df is the merged dataframe\n",
    "            nf is total number of features\n",
    "    \n",
    "    \"\"\"\n",
    "    \n",
    "    rownum=[]\n",
    "    res=[]\n",
    "\n",
    "    for i in range(5, nf, 5):\n",
    "        rownum.append(i)\n",
    "        tempres=identify6(df,i)\n",
    "        res.append(tempres.x[0])\n",
    "        \n",
    "    \n",
    "    plt.plot(rownum, res);\n",
    "    plt.xlabel('Number of Features');\n",
    "    plt.ylabel('Ratio of material 1');\n",
    "    plt.title('Ratio vs. Number of Features');\n",
    "    plt.show()\n",
    "    \n",
    "    \n",
    "    return rownum, res"
   ]
  },
  {
   "cell_type": "markdown",
   "metadata": {},
   "source": [
    "## Ratio Plot"
   ]
  },
  {
   "cell_type": "code",
   "execution_count": 35,
   "metadata": {},
   "outputs": [],
   "source": [
    "## Peak Value Mixed 1"
   ]
  },
  {
   "cell_type": "code",
   "execution_count": 24,
   "metadata": {},
   "outputs": [
    {
     "name": "stdout",
     "output_type": "stream",
     "text": [
      "(3000, 6)\n"
     ]
    },
    {
     "data": {
      "image/png": "[encoded data removed]",
      "text/plain": [
       "<Figure size 432x288 with 1 Axes>"
      ]
     },
     "metadata": {
      "needs_background": "light"
     },
     "output_type": "display_data"
    }
   ],
   "source": [
    "print(M1PV.shape)\n",
    "rn1, r1=plotratio(M1PV, 3000)"
   ]
  },
  {
   "cell_type": "code",
   "execution_count": 25,
   "metadata": {},
   "outputs": [
    {
     "name": "stdout",
     "output_type": "stream",
     "text": [
      "(2868, 6)\n"
     ]
    }
   ],
   "source": [
    "M1PVn=M1PV\n",
    "M1PVn=M1PVn.replace(0, np.nan)\n",
    "M1PVn=M1PVn.dropna(subset=['C1','C2'])\n",
    "print(M1PVn.shape)"
   ]
  },
  {
   "cell_type": "code",
   "execution_count": 26,
   "metadata": {},
   "outputs": [
    {
     "data": {
      "image/png": "[encoded data removed]",
      "text/plain": [
       "<Figure size 432x288 with 1 Axes>"
      ]
     },
     "metadata": {
      "needs_background": "light"
     },
     "output_type": "display_data"
    }
   ],
   "source": [
    "rn1n, r1n=plotratio(M1PVn, 2868)"
   ]
  },
  {
   "cell_type": "code",
   "execution_count": 37,
   "metadata": {},
   "outputs": [],
   "source": [
    "## Peak Value Mixed 2"
   ]
  },
  {
   "cell_type": "code",
   "execution_count": 27,
   "metadata": {},
   "outputs": [
    {
     "name": "stdout",
     "output_type": "stream",
     "text": [
      "(3000, 6)\n"
     ]
    },
    {
     "data": {
      "image/png": "[encoded data removed]",
      "text/plain": [
       "<Figure size 432x288 with 1 Axes>"
      ]
     },
     "metadata": {
      "needs_background": "light"
     },
     "output_type": "display_data"
    }
   ],
   "source": [
    "print(M2PV.shape)\n",
    "rn2, r2=plotratio(M2PV, 3000)"
   ]
  },
  {
   "cell_type": "code",
   "execution_count": 39,
   "metadata": {},
   "outputs": [
    {
     "name": "stdout",
     "output_type": "stream",
     "text": [
      "(2871, 6)\n"
     ]
    }
   ],
   "source": [
    "M2PVn=M2PV\n",
    "M2PVn=M2PVn.replace(0, np.nan)\n",
    "M2PVn=M2PVn.dropna(subset=['C1','C2'])\n",
    "print(M2PVn.shape)"
   ]
  },
  {
   "cell_type": "code",
   "execution_count": 40,
   "metadata": {},
   "outputs": [
    {
     "data": {
      "image/png": "[encoded data removed]",
      "text/plain": [
       "<Figure size 432x288 with 1 Axes>"
      ]
     },
     "metadata": {
      "needs_background": "light"
     },
     "output_type": "display_data"
    }
   ],
   "source": [
    "rn2n, r2n=plotratio(M2PVn, 2871)"
   ]
  },
  {
   "cell_type": "code",
   "execution_count": 42,
   "metadata": {},
   "outputs": [],
   "source": [
    "## Peak Value Mixed 3"
   ]
  },
  {
   "cell_type": "code",
   "execution_count": 43,
   "metadata": {},
   "outputs": [
    {
     "name": "stdout",
     "output_type": "stream",
     "text": [
      "(3000, 6)\n"
     ]
    },
    {
     "data": {
      "image/png": "[encoded data removed]",
      "text/plain": [
       "<Figure size 432x288 with 1 Axes>"
      ]
     },
     "metadata": {
      "needs_background": "light"
     },
     "output_type": "display_data"
    }
   ],
   "source": [
    "print(M3PV.shape)\n",
    "rn3, r3=plotratio(M3PV, 3000)"
   ]
  },
  {
   "cell_type": "code",
   "execution_count": 44,
   "metadata": {},
   "outputs": [
    {
     "name": "stdout",
     "output_type": "stream",
     "text": [
      "(2815, 6)\n"
     ]
    }
   ],
   "source": [
    "M3PVn=M3PV\n",
    "M3PVn=M3PVn.replace(0, np.nan)\n",
    "M3PVn=M3PVn.dropna(subset=['C1','C2'])\n",
    "print(M3PVn.shape)"
   ]
  },
  {
   "cell_type": "code",
   "execution_count": 45,
   "metadata": {},
   "outputs": [
    {
     "data": {
      "image/png": "[encoded data removed]",
      "text/plain": [
       "<Figure size 432x288 with 1 Axes>"
      ]
     },
     "metadata": {
      "needs_background": "light"
     },
     "output_type": "display_data"
    }
   ],
   "source": [
    "rn3n, r3n=plotratio(M3PVn, 2815)"
   ]
  },
  {
   "cell_type": "code",
   "execution_count": 46,
   "metadata": {},
   "outputs": [
    {
     "name": "stdout",
     "output_type": "stream",
     "text": [
      "(3000, 6)\n"
     ]
    },
    {
     "data": {
      "image/png": "[encoded data removed]",
      "text/plain": [
       "<Figure size 432x288 with 1 Axes>"
      ]
     },
     "metadata": {
      "needs_background": "light"
     },
     "output_type": "display_data"
    }
   ],
   "source": [
    "## Volume Mixed 1\n",
    "print(M1V.shape)\n",
    "Vrn1, Vr1=plotratio(M1V, 3000)"
   ]
  },
  {
   "cell_type": "code",
   "execution_count": 47,
   "metadata": {},
   "outputs": [
    {
     "name": "stdout",
     "output_type": "stream",
     "text": [
      "(3000, 6)\n"
     ]
    },
    {
     "data": {
      "image/png": "[encoded data removed]",
      "text/plain": [
       "<Figure size 432x288 with 1 Axes>"
      ]
     },
     "metadata": {
      "needs_background": "light"
     },
     "output_type": "display_data"
    }
   ],
   "source": [
    "## Volume Mixed 2\n",
    "print(M2V.shape)\n",
    "Vrn2, Vr2=plotratio(M2V, 3000)"
   ]
  },
  {
   "cell_type": "code",
   "execution_count": 48,
   "metadata": {},
   "outputs": [
    {
     "name": "stdout",
     "output_type": "stream",
     "text": [
      "(3000, 6)\n"
     ]
    },
    {
     "data": {
      "image/png": "[encoded data removed]",
      "text/plain": [
       "<Figure size 432x288 with 1 Axes>"
      ]
     },
     "metadata": {
      "needs_background": "light"
     },
     "output_type": "display_data"
    }
   ],
   "source": [
    "## Volume Mixed 3\n",
    "print(M3V.shape)\n",
    "Vrn3, Vr3=plotratio(M3V, 3000)"
   ]
  },
  {
   "cell_type": "code",
   "execution_count": null,
   "metadata": {},
   "outputs": [],
   "source": []
  }
 ],
 "metadata": {
  "kernelspec": {
   "display_name": "Python 3",
   "language": "python",
   "name": "python3"
  },
  "language_info": {
   "codemirror_mode": {
    "name": "ipython",
    "version": 3
   },
   "file_extension": ".py",
   "mimetype": "text/x-python",
   "name": "python",
   "nbconvert_exporter": "python",
   "pygments_lexer": "ipython3",
   "version": "3.7.3"
  }
 },
 "nbformat": 4,
 "nbformat_minor": 2
}
